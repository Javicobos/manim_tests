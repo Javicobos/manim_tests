{
  "nbformat": 4,
  "nbformat_minor": 0,
  "metadata": {
    "colab": {
      "name": "ManimTests0.ipynb",
      "provenance": [],
      "collapsed_sections": [],
      "authorship_tag": "ABX9TyOuWQ94HZ1wo0JfTl1YzRCE",
      "include_colab_link": true
    },
    "kernelspec": {
      "name": "python3",
      "display_name": "Python 3"
    },
    "language_info": {
      "name": "python"
    }
  },
  "cells": [
    {
      "cell_type": "markdown",
      "metadata": {
        "id": "view-in-github",
        "colab_type": "text"
      },
      "source": [
        "<a href=\"https://colab.research.google.com/github/Javicobos/manim_tests/blob/main/ManimTests0.ipynb\" target=\"_parent\"><img src=\"https://colab.research.google.com/assets/colab-badge.svg\" alt=\"Open In Colab\"/></a>"
      ]
    },
    {
      "cell_type": "markdown",
      "source": [
        "Click this [useful link](https://docs.manim.community/en/stable/installation/jupyter.html#google-colaboratory) for some info about how to use this. Basically click the play buttons."
      ],
      "metadata": {
        "id": "bRSl-XQ0tMNO"
      }
    },
    {
      "cell_type": "code",
      "execution_count": null,
      "metadata": {
        "id": "k9UYUqzppMCj"
      },
      "outputs": [],
      "source": [
        "!sudo apt update\n",
        "!sudo apt install libcairo2-dev ffmpeg \\\n",
        "    texlive texlive-latex-extra texlive-fonts-extra \\\n",
        "    texlive-latex-recommended texlive-science \\\n",
        "    tipa libpango1.0-dev\n",
        "!pip install manim\n",
        "!pip install IPython --upgrade"
      ]
    },
    {
      "cell_type": "markdown",
      "source": [
        "**Remember to restart runtime after the above cell is done!**\n",
        "\n",
        "Runtime -> Restart Runtime // or do **⌘ + M + .**"
      ],
      "metadata": {
        "id": "rCzD8KAfx6NL"
      }
    },
    {
      "cell_type": "code",
      "source": [
        "from manim import *"
      ],
      "metadata": {
        "id": "ixD8hbgDrft9"
      },
      "execution_count": null,
      "outputs": []
    },
    {
      "cell_type": "code",
      "source": [
        "%%manim -qm -v WARNING -r 480,854 InfiniteSum\n",
        "\n",
        "class InfiniteSum(Scene):\n",
        "  def construct(self):\n",
        "    my_sum = MathTex(r\"1 + \\frac{1}{2} + \\frac{1}{3} + \\frac{1}{4} + \\frac{1}{5} + \\frac{1}{6} + \\frac{1}{7} + \\frac{1}{8} + ... =\")\n",
        "\n",
        "\n",
        "    self.play(Write(my_sum))"
      ],
      "metadata": {
        "id": "QqFjDTBr7wgG"
      },
      "execution_count": null,
      "outputs": []
    }
  ]
}